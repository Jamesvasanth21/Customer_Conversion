{
 "cells": [
  {
   "cell_type": "code",
   "execution_count": 2,
   "id": "2175875e",
   "metadata": {},
   "outputs": [],
   "source": [
    "import numpy as np\n",
    "import tensorflow as tf"
   ]
  },
  {
   "cell_type": "code",
   "execution_count": 6,
   "id": "a68860ad",
   "metadata": {},
   "outputs": [
    {
     "name": "stderr",
     "output_type": "stream",
     "text": [
      "C:\\Users\\WIN\\AppData\\Local\\Temp/ipykernel_7908/3278100647.py:2: DeprecationWarning: `np.float` is a deprecated alias for the builtin `float`. To silence this warning, use `float` by itself. Doing this will not modify any behavior and is safe. If you specifically wanted the numpy scalar type, use `np.float64` here.\n",
      "Deprecated in NumPy 1.20; for more details and guidance: https://numpy.org/devdocs/release/1.20.0-notes.html#deprecations\n",
      "  train_inputs = npz['inputs'].astype(np.float)\n",
      "C:\\Users\\WIN\\AppData\\Local\\Temp/ipykernel_7908/3278100647.py:3: DeprecationWarning: `np.float` is a deprecated alias for the builtin `float`. To silence this warning, use `float` by itself. Doing this will not modify any behavior and is safe. If you specifically wanted the numpy scalar type, use `np.float64` here.\n",
      "Deprecated in NumPy 1.20; for more details and guidance: https://numpy.org/devdocs/release/1.20.0-notes.html#deprecations\n",
      "  train_targets = npz['targets'].astype(np.float)\n",
      "C:\\Users\\WIN\\AppData\\Local\\Temp/ipykernel_7908/3278100647.py:6: DeprecationWarning: `np.float` is a deprecated alias for the builtin `float`. To silence this warning, use `float` by itself. Doing this will not modify any behavior and is safe. If you specifically wanted the numpy scalar type, use `np.float64` here.\n",
      "Deprecated in NumPy 1.20; for more details and guidance: https://numpy.org/devdocs/release/1.20.0-notes.html#deprecations\n",
      "  validation_inputs, validation_targets = npz['inputs'].astype(np.float), npz['targets'].astype(np.int)\n",
      "C:\\Users\\WIN\\AppData\\Local\\Temp/ipykernel_7908/3278100647.py:6: DeprecationWarning: `np.int` is a deprecated alias for the builtin `int`. To silence this warning, use `int` by itself. Doing this will not modify any behavior and is safe. When replacing `np.int`, you may wish to use e.g. `np.int64` or `np.int32` to specify the precision. If you wish to review your current use, check the release note link for additional information.\n",
      "Deprecated in NumPy 1.20; for more details and guidance: https://numpy.org/devdocs/release/1.20.0-notes.html#deprecations\n",
      "  validation_inputs, validation_targets = npz['inputs'].astype(np.float), npz['targets'].astype(np.int)\n",
      "C:\\Users\\WIN\\AppData\\Local\\Temp/ipykernel_7908/3278100647.py:9: DeprecationWarning: `np.float` is a deprecated alias for the builtin `float`. To silence this warning, use `float` by itself. Doing this will not modify any behavior and is safe. If you specifically wanted the numpy scalar type, use `np.float64` here.\n",
      "Deprecated in NumPy 1.20; for more details and guidance: https://numpy.org/devdocs/release/1.20.0-notes.html#deprecations\n",
      "  test_inputs, test_targets = npz['inputs'].astype(np.float), npz['targets'].astype(np.float)\n"
     ]
    }
   ],
   "source": [
    "npz = np.load('Audiobook_data_train.npz')\n",
    "train_inputs = npz['inputs'].astype(np.float)\n",
    "train_targets = npz['targets'].astype(np.int)\n",
    "\n",
    "npz = np.load('Audiobook_data_validation.npz')\n",
    "validation_inputs, validation_targets = npz['inputs'].astype(np.float), npz['targets'].astype(np.int)\n",
    "\n",
    "npz = np.load('Audiobook_data_test.npz')\n",
    "test_inputs, test_targets = npz['inputs'].astype(np.float), npz['targets'].astype(np.float)"
   ]
  },
  {
   "cell_type": "code",
   "execution_count": 7,
   "id": "d0110ac7",
   "metadata": {},
   "outputs": [
    {
     "name": "stdout",
     "output_type": "stream",
     "text": [
      "Epoch 1/100\n",
      "36/36 - 6s - loss: 0.6242 - accuracy: 0.6457 - val_loss: 0.5187 - val_accuracy: 0.7450 - 6s/epoch - 160ms/step\n",
      "Epoch 2/100\n",
      "36/36 - 0s - loss: 0.4889 - accuracy: 0.7424 - val_loss: 0.4462 - val_accuracy: 0.7606 - 300ms/epoch - 8ms/step\n",
      "Epoch 3/100\n",
      "36/36 - 0s - loss: 0.4311 - accuracy: 0.7645 - val_loss: 0.4047 - val_accuracy: 0.7763 - 269ms/epoch - 7ms/step\n",
      "Epoch 4/100\n",
      "36/36 - 0s - loss: 0.3992 - accuracy: 0.7935 - val_loss: 0.3840 - val_accuracy: 0.7830 - 283ms/epoch - 8ms/step\n",
      "Epoch 5/100\n",
      "36/36 - 0s - loss: 0.3805 - accuracy: 0.7980 - val_loss: 0.3653 - val_accuracy: 0.7919 - 284ms/epoch - 8ms/step\n",
      "Epoch 6/100\n",
      "36/36 - 0s - loss: 0.3678 - accuracy: 0.8019 - val_loss: 0.3664 - val_accuracy: 0.8076 - 309ms/epoch - 9ms/step\n",
      "Epoch 7/100\n",
      "36/36 - 0s - loss: 0.3616 - accuracy: 0.8078 - val_loss: 0.3630 - val_accuracy: 0.8098 - 275ms/epoch - 8ms/step\n",
      "Epoch 8/100\n",
      "36/36 - 0s - loss: 0.3530 - accuracy: 0.8120 - val_loss: 0.3569 - val_accuracy: 0.8098 - 272ms/epoch - 8ms/step\n",
      "Epoch 9/100\n",
      "36/36 - 0s - loss: 0.3515 - accuracy: 0.8108 - val_loss: 0.3524 - val_accuracy: 0.7987 - 286ms/epoch - 8ms/step\n",
      "Epoch 10/100\n",
      "36/36 - 0s - loss: 0.3449 - accuracy: 0.8167 - val_loss: 0.3465 - val_accuracy: 0.8166 - 299ms/epoch - 8ms/step\n",
      "Epoch 11/100\n",
      "36/36 - 0s - loss: 0.3409 - accuracy: 0.8156 - val_loss: 0.3492 - val_accuracy: 0.8054 - 287ms/epoch - 8ms/step\n",
      "Epoch 12/100\n",
      "36/36 - 0s - loss: 0.3403 - accuracy: 0.8122 - val_loss: 0.3370 - val_accuracy: 0.8076 - 273ms/epoch - 8ms/step\n",
      "Epoch 13/100\n",
      "36/36 - 0s - loss: 0.3374 - accuracy: 0.8192 - val_loss: 0.3470 - val_accuracy: 0.8143 - 234ms/epoch - 6ms/step\n",
      "Epoch 14/100\n",
      "36/36 - 0s - loss: 0.3343 - accuracy: 0.8164 - val_loss: 0.3460 - val_accuracy: 0.8121 - 234ms/epoch - 6ms/step\n"
     ]
    },
    {
     "data": {
      "text/plain": [
       "<keras.callbacks.History at 0x1db5bdcfe50>"
      ]
     },
     "execution_count": 7,
     "metadata": {},
     "output_type": "execute_result"
    }
   ],
   "source": [
    "input_size = 10\n",
    "output_size = 2\n",
    "hidden_layer_size = 50\n",
    "\n",
    "model = tf.keras.Sequential([\n",
    "    tf.keras.layers.Dense(hidden_layer_size, activation = 'relu'),\n",
    "    tf.keras.layers.Dense(hidden_layer_size, activation = 'relu'),\n",
    "    tf.keras.layers.Dense(output_size, activation='softmax')\n",
    "])\n",
    "\n",
    "\n",
    "model.compile(optimizer = 'adam', loss='sparse_categorical_crossentropy', metrics=['accuracy'])\n",
    "\n",
    "batch_size = 100\n",
    "\n",
    "max_epochs = 100\n",
    "\n",
    "early_stopping = tf.keras.callbacks.EarlyStopping(patience = 2)\n",
    "\n",
    "model.fit(train_inputs,\n",
    "          train_targets, \n",
    "          batch_size = batch_size,\n",
    "          epochs = max_epochs,\n",
    "          callbacks = [early_stopping],\n",
    "          validation_data = (validation_inputs,validation_targets),\n",
    "          verbose = 2\n",
    "         )"
   ]
  },
  {
   "cell_type": "code",
   "execution_count": 8,
   "id": "be9b82e1",
   "metadata": {},
   "outputs": [
    {
     "name": "stdout",
     "output_type": "stream",
     "text": [
      "14/14 [==============================] - 1s 11ms/step - loss: 0.3252 - accuracy: 0.8393\n"
     ]
    }
   ],
   "source": [
    "test_loss, test_accuracy = model.evaluate(test_inputs, test_targets)"
   ]
  },
  {
   "cell_type": "code",
   "execution_count": 10,
   "id": "d296281e",
   "metadata": {},
   "outputs": [
    {
     "name": "stdout",
     "output_type": "stream",
     "text": [
      "\n",
      "Test loss: 0.33, Test accuracy: 83.93%\n"
     ]
    }
   ],
   "source": [
    "print('\\nTest loss: {0:.2f}, Test accuracy: {1:.2f}%'.format(test_loss,test_accuracy*100))"
   ]
  },
  {
   "cell_type": "code",
   "execution_count": null,
   "id": "73c8ba45",
   "metadata": {},
   "outputs": [],
   "source": []
  }
 ],
 "metadata": {
  "kernelspec": {
   "display_name": "Python (py3-TF2.0)",
   "language": "python",
   "name": "py3-tf2.0"
  },
  "language_info": {
   "codemirror_mode": {
    "name": "ipython",
    "version": 3
   },
   "file_extension": ".py",
   "mimetype": "text/x-python",
   "name": "python",
   "nbconvert_exporter": "python",
   "pygments_lexer": "ipython3",
   "version": "3.8.12"
  }
 },
 "nbformat": 4,
 "nbformat_minor": 5
}
